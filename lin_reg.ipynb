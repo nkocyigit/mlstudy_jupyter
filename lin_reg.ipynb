{
 "cells": [
  {
   "cell_type": "code",
   "execution_count": 26,
   "metadata": {
    "collapsed": false
   },
   "outputs": [
    {
     "name": "stdout",
     "output_type": "stream",
     "text": [
      "Coefficients: \n",
      " [[ 0.55]]\n",
      "Intercepts: \n",
      " [ 0.22]\n"
     ]
    },
    {
     "data": {
      "image/png": "[encoded data removed]",
      "text/plain": [
       "<matplotlib.figure.Figure at 0x10c5bac88>"
      ]
     },
     "metadata": {},
     "output_type": "display_data"
    },
    {
     "name": "stdout",
     "output_type": "stream",
     "text": [
      "[[ 1.045]]\n",
      "Score :  0.931342364532\n"
     ]
    },
    {
     "data": {
      "text/plain": [
       "<matplotlib.figure.Figure at 0x10f005748>"
      ]
     },
     "metadata": {},
     "output_type": "display_data"
    }
   ],
   "source": [
    "#univariate linear regression\n",
    "\n",
    "#    sample\n",
    "#\n",
    "#    x   y\n",
    "#    --  --\n",
    "#    0   0.3\n",
    "#    1   0.8\n",
    "#    2   1.3\n",
    "#    3   1.5\n",
    "#    4   2.7\n",
    "#\n",
    "#    y = theta0 + theta1 * x\n",
    "\n",
    "%matplotlib inline \n",
    "\n",
    "import numpy as np\n",
    "from sklearn import linear_model\n",
    "import matplotlib.pyplot as plt\n",
    "\n",
    "data = np.array([[0,0.3],[1,0.8],[2,1.3],[3,1.5],[4,2.7]])\n",
    "\n",
    "X = data[:,0:1]\n",
    "#print(X.shape)\n",
    "\n",
    "y = data[:,1:2]\n",
    "#print(y.shape)\n",
    "\n",
    "# Create linear regression object\n",
    "lin_regression = linear_model.LinearRegression()\n",
    "\n",
    "# Train the model using the training sets\n",
    "lin_regression.fit(X, y)\n",
    "\n",
    "# The coefficients\n",
    "print('Coefficients: \\n', lin_regression.coef_)\n",
    "print('Intercepts: \\n', lin_regression.intercept_)\n",
    "\n",
    "plt.xlim(0.0, 5.0)\n",
    "plt.ylim(0.0, 10.0)\n",
    "\n",
    "#plt.plot(X,y)\n",
    "\n",
    "#plt.show()\n",
    "\n",
    "#plt.clf()\n",
    "\n",
    "# Plot outputs\n",
    "plt.scatter(X, y,  color='black')\n",
    "plt.plot(X, lin_regression.predict(X), color='blue',linewidth=3)\n",
    "\n",
    "plt.show()\n",
    "\n",
    "plt.clf()\n",
    "\n",
    "print(lin_regression.predict(1.5))\n",
    "\n",
    "# The coefficient R^2 is defined as (1 - u/v), \n",
    "# where u is the regression sum of squares ((y_true - y_pred) ** 2).sum() \n",
    "# and v is the residual sum of squares ((y_true - y_true.mean()) ** 2).sum(). \n",
    "# Best possible score is 1.0 and it can be negative \n",
    "# (because the model can be arbitrarily worse). \n",
    "# A constant model that always predicts the expected value of y, \n",
    "# disregarding the input features, would get a R^2 score of 0.0.\n",
    "\n",
    "print('Score : ', lin_regression.score(X,y))"
   ]
  },
  {
   "cell_type": "code",
   "execution_count": 2,
   "metadata": {
    "collapsed": false
   },
   "outputs": [
    {
     "name": "stdout",
     "output_type": "stream",
     "text": [
      "Coefficients: \n",
      " [[ 0.5  0.7]]\n",
      "Intercepts: \n",
      " [ 2.]\n",
      "[[ 4.29]]\n"
     ]
    },
    {
     "name": "stderr",
     "output_type": "stream",
     "text": [
      "/Users/nk/anaconda/lib/python3.5/site-packages/sklearn/utils/validation.py:386: DeprecationWarning: Passing 1d arrays as data is deprecated in 0.17 and willraise ValueError in 0.19. Reshape your data either using X.reshape(-1, 1) if your data has a single feature or X.reshape(1, -1) if it contains a single sample.\n",
      "  DeprecationWarning)\n"
     ]
    }
   ],
   "source": [
    "#multivariate linear regression\n",
    "\n",
    "#    sample\n",
    "#\n",
    "#    x0   x1   y\n",
    "#    --   --   --\n",
    "#    3    4    6.3\n",
    "#    5    8    10.1\n",
    "#   -2    7    5.9\n",
    "#    4    6    8.2\n",
    "#    10   3    9.1\n",
    "#\n",
    "#    y = theta0 + theta1 * x0 + theta2 * x1\n",
    "\n",
    "%matplotlib inline \n",
    "\n",
    "import numpy as np\n",
    "from sklearn import linear_model\n",
    "import matplotlib.pyplot as plt\n",
    "\n",
    "data = np.array([[3,4,6.3],[5,8,10.1],[-2,7,5.9],[4,6,8.2],[10,3,9.1]])\n",
    "\n",
    "X = data[:,0:2]\n",
    "#print(X.shape)\n",
    "\n",
    "y = data[:,2:3]\n",
    "#print(y.shape)\n",
    "\n",
    "# Create linear regression object\n",
    "lin_regression = linear_model.LinearRegression()\n",
    "\n",
    "# Train the model using the training sets\n",
    "lin_regression.fit(X, y)\n",
    "\n",
    "# The coefficients\n",
    "print('Coefficients: \\n', lin_regression.coef_)\n",
    "print('Intercepts: \\n', lin_regression.intercept_)\n",
    "\n",
    "print(lin_regression.predict([1.5,2.2]))"
   ]
  }
 ],
 "metadata": {
  "anaconda-cloud": {},
  "kernelspec": {
   "display_name": "Python [Root]",
   "language": "python",
   "name": "Python [Root]"
  },
  "language_info": {
   "codemirror_mode": {
    "name": "ipython",
    "version": 3
   },
   "file_extension": ".py",
   "mimetype": "text/x-python",
   "name": "python",
   "nbconvert_exporter": "python",
   "pygments_lexer": "ipython3",
   "version": "3.5.2"
  }
 },
 "nbformat": 4,
 "nbformat_minor": 0
}
