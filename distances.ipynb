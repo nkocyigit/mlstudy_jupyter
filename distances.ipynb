{
 "cells": [
  {
   "cell_type": "code",
   "execution_count": 23,
   "metadata": {
    "collapsed": false
   },
   "outputs": [
    {
     "name": "stdout",
     "output_type": "stream",
     "text": [
      "[[ 20.]]\n"
     ]
    }
   ],
   "source": [
    "from sklearn.metrics.pairwise\\\n",
    "    import manhattan_distances\n",
    "    \n",
    "X = [ [3.5,2.0,0.0,4.5,5.0,1.5,2.5,2.0] ]\n",
    "Y = [ [2.0,3.5,4.0,0.0,2.0,3.5,0.0,3.0] ]\n",
    "\n",
    "print(manhattan_distances(X, Y))"
   ]
  },
  {
   "cell_type": "code",
   "execution_count": 24,
   "metadata": {
    "collapsed": false
   },
   "outputs": [
    {
     "name": "stdout",
     "output_type": "stream",
     "text": [
      "[[ 7.81024968]]\n"
     ]
    }
   ],
   "source": [
    "from sklearn.metrics.pairwise\\\n",
    "    import euclidean_distances\n",
    "    \n",
    "X = [ [3.5,2.0,0.0,4.5,5.0,1.5,2.5,2.0] ]\n",
    "Y = [ [2.0,3.5,4.0,0.0,2.0,3.5,0.0,3.0] ]\n",
    "\n",
    "print(euclidean_distances(X, Y))"
   ]
  },
  {
   "cell_type": "code",
   "execution_count": 52,
   "metadata": {
    "collapsed": false
   },
   "outputs": [
    {
     "name": "stdout",
     "output_type": "stream",
     "text": [
      "cityblock distance         :  3.2\n",
      "euclidean distance         :  1.854723699099141\n",
      "chebyshev distance         :  1.2\n",
      "minkowski distance [r = 1] :  3.2\n",
      "minkowski distance [r = 2] :  1.854723699099141\n",
      "minkowski distance [r = 3] :  1.55057210931\n",
      "minkowski distance [r = 4] :  1.4206745334\n",
      "minkowski distance [r = 5] :  1.35025801091\n"
     ]
    }
   ],
   "source": [
    "from scipy.spatial.distance\\\n",
    "    import cityblock, euclidean, chebyshev, minkowski\n",
    "    \n",
    "#X = [ [3.5,2.0,0.0,4.5,5.0,1.5,2.5,2.0] ]\n",
    "#Y = [ [2.0,3.5,4.0,0.0,2.0,3.5,0.0,3.0] ]\n",
    "X = [ [3.5,2.0,4.0,4.5,5.0,1.5,3.5,2.0] ]\n",
    "Y = [ [3.5,2.0,4.0,4.5,5.0,2.7,2.5,3.0] ]\n",
    "\n",
    "print(\"cityblock distance         : \" , cityblock(X, Y))\n",
    "print(\"euclidean distance         : \" , euclidean(X, Y))\n",
    "print(\"chebyshev distance         : \" , chebyshev(X, Y))\n",
    "print(\"minkowski distance [r = 1] : \" , minkowski(X, Y, 1))\n",
    "print(\"minkowski distance [r = 2] : \" , minkowski(X, Y, 2))\n",
    "print(\"minkowski distance [r = 3] : \" , minkowski(X, Y, 3))\n",
    "print(\"minkowski distance [r = 4] : \" , minkowski(X, Y, 4))\n",
    "print(\"minkowski distance [r = 5] : \" , minkowski(X, Y, 5))"
   ]
  },
  {
   "cell_type": "code",
   "execution_count": 20,
   "metadata": {
    "collapsed": false
   },
   "outputs": [
    {
     "name": "stdout",
     "output_type": "stream",
     "text": [
      "mean     :  3.25\n",
      "std dev  :  1.19895788083\n",
      "z-scores :  [ 0.20851441 -1.04257207  0.62554324  1.04257207  1.4596009  -1.4596009\n",
      "  0.20851441 -1.04257207]\n"
     ]
    }
   ],
   "source": [
    "from scipy.stats.mstats import zscore\n",
    "import numpy as np\n",
    "\n",
    "X = np.array([3.5,2.0,4.0,4.5,5.0,1.5,3.5,2.0])\n",
    "print(\"mean     : \",X.mean())\n",
    "print(\"std dev  : \",X.std())\n",
    "print(\"z-scores : \",zscore(X))\n"
   ]
  }
 ],
 "metadata": {
  "anaconda-cloud": {},
  "kernelspec": {
   "display_name": "Python [Root]",
   "language": "python",
   "name": "Python [Root]"
  },
  "language_info": {
   "codemirror_mode": {
    "name": "ipython",
    "version": 3
   },
   "file_extension": ".py",
   "mimetype": "text/x-python",
   "name": "python",
   "nbconvert_exporter": "python",
   "pygments_lexer": "ipython3",
   "version": "3.5.2"
  }
 },
 "nbformat": 4,
 "nbformat_minor": 0
}
